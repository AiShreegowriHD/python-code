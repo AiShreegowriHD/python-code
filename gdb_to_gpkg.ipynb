{
 "cells": [
  {
   "cell_type": "markdown",
   "id": "38da1352",
   "metadata": {},
   "source": [
    "Importing  all required package"
   ]
  },
  {
   "cell_type": "code",
   "execution_count": null,
   "id": "ee97e69a",
   "metadata": {},
   "outputs": [],
   "source": [
    "import geopandas as gpd\n",
    "import fiona"
   ]
  },
  {
   "cell_type": "markdown",
   "id": "088c6b5a",
   "metadata": {},
   "source": [
    "Providing path of file. File can be .gpkg/.gbd"
   ]
  },
  {
   "cell_type": "code",
   "execution_count": null,
   "id": "d6efd72d",
   "metadata": {},
   "outputs": [],
   "source": [
    "path='PKC_HA_3_8_LHEES.gdb'"
   ]
  },
  {
   "cell_type": "markdown",
   "id": "802ca21e",
   "metadata": {},
   "source": [
    "Running fiona to get list of layers present in the file"
   ]
  },
  {
   "cell_type": "code",
   "execution_count": null,
   "id": "d6f5a62c",
   "metadata": {},
   "outputs": [],
   "source": [
    "fiona.listlayers(path)"
   ]
  },
  {
   "cell_type": "markdown",
   "id": "559bb353",
   "metadata": {},
   "source": [
    "Here reading file and printing columns name present in the file"
   ]
  },
  {
   "cell_type": "code",
   "execution_count": null,
   "id": "b1669df0",
   "metadata": {},
   "outputs": [],
   "source": [
    "df=gpd.read_file(path)\n",
    "print(df.columns)"
   ]
  },
  {
   "cell_type": "markdown",
   "id": "f675c3a0",
   "metadata": {},
   "source": [
    "Setting geometry to 4326 type and writing back to .gpkg file. By providing layer name"
   ]
  },
  {
   "cell_type": "code",
   "execution_count": null,
   "id": "41de55b7",
   "metadata": {},
   "outputs": [],
   "source": [
    "df['geometry']=df['geometry'].to_crs(4326)\n",
    "output_file = 'PKC_HA_3_8.gpkg'\n",
    "df.to_file(output_file,driver='GPKG',index=False,layer_name='PKC_HA_3_8')\n",
    "print(\"File successfully writtent to \",output_file)"
   ]
  },
  {
   "cell_type": "markdown",
   "id": "e6ee4903",
   "metadata": {},
   "source": [
    "Here I am checking crs i.e. geometry type."
   ]
  },
  {
   "cell_type": "code",
   "execution_count": null,
   "id": "b0da755a",
   "metadata": {},
   "outputs": [],
   "source": [
    "crs = df.crs\n",
    "if crs is not None:\n",
    "    print(f\"CRS value for {output_file} is : {crs}\")\n",
    "else:\n",
    "    print(f\"No CRS information found for\")"
   ]
  }
 ],
 "metadata": {
  "kernelspec": {
   "display_name": "Python 3 (ipykernel)",
   "language": "python",
   "name": "python3"
  },
  "language_info": {
   "codemirror_mode": {
    "name": "ipython",
    "version": 3
   },
   "file_extension": ".py",
   "mimetype": "text/x-python",
   "name": "python",
   "nbconvert_exporter": "python",
   "pygments_lexer": "ipython3",
   "version": "3.9.12"
  }
 },
 "nbformat": 4,
 "nbformat_minor": 5
}
